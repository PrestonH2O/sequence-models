{
 "cells": [
  {
   "cell_type": "markdown",
   "metadata": {},
   "source": [
    "## Pre-trained word embeddings"
   ]
  },
  {
   "cell_type": "code",
   "execution_count": 12,
   "metadata": {},
   "outputs": [],
   "source": [
    "import gensim.downloader as api\n",
    "from scipy.spatial.distance import cosine\n",
    "import numpy as np\n",
    "\n",
    "# Pre-trained Word2Vec model from google\n",
    "# This model is huge and takes a while to download 10+ mins for me (sorry)\n",
    "model = api.load(\"word2vec-google-news-300\")\n"
   ]
  },
  {
   "cell_type": "code",
   "execution_count": 29,
   "metadata": {},
   "outputs": [],
   "source": [
    "# Calculate cosine similarity between two words using pre-trained Word2Vec embeddings\n",
    "def cosine_similarity(word1, word2):\n",
    "    \n",
    "    # Check if both words are present in the vocabulary\n",
    "    if word1 in model and word2 in model:\n",
    "    \n",
    "        return 1 - cosine(model[word1], model[word2])\n",
    "\n",
    "    else:\n",
    "        print(\"One or both of those words isn't in the data set\")\n",
    "        return None"
   ]
  },
  {
   "cell_type": "code",
   "execution_count": 14,
   "metadata": {},
   "outputs": [],
   "source": [
    "# Calculate dissimilarity score between two words based on\n",
    "def dissimilarity_score(word1, word2):\n",
    "    \n",
    "    # Check if both words are present in the vocabulary\n",
    "    if word1 in model and word2 in model:\n",
    "\n",
    "        print(\"not implemented\")\n",
    "    \n",
    "        return 0\n",
    "\n",
    "    else:\n",
    "        print(\"One or both of those words isn't in the data set\")\n",
    "        return None"
   ]
  },
  {
   "cell_type": "code",
   "execution_count": 17,
   "metadata": {},
   "outputs": [
    {
     "name": "stdout",
     "output_type": "stream",
     "text": [
      "Cosine Similarity between 'the' and 'the': 1.0\n",
      "Dissimilarity Score between 'the' and 'the': 0.0\n"
     ]
    }
   ],
   "source": [
    "# Get user input\n",
    "word1 = input(\"Enter the first word: \")\n",
    "word2 = input(\"Enter the second word: \")\n",
    "\n",
    "cosine_sim = cosine_similarity(word1, word2)\n",
    "if cosine_sim is not None:\n",
    "    print(f\"Cosine Similarity between '{word1}' and '{word2}': {cosine_sim}\")\n",
    "\n",
    "dissimilarity = dissimilarity_score(word1, word2)\n",
    "if dissimilarity is not None:\n",
    "    print(f\"Dissimilarity Score between '{word1}' and '{word2}': {dissimilarity}\")\n"
   ]
  },
  {
   "cell_type": "markdown",
   "metadata": {},
   "source": [
    "The dissimilarity score should be defined by you. You either can\n",
    "have your own idea of a dissimilarity score or refer to literature (cite the paper you used). In\n",
    "either case clearly describe how this score helps determine the dissimilarity between 2 words\n",
    "\n",
    "Note: Dissimilarity measure has been an important metric for recommender systems trying to\n",
    "introduce ‘Novelty and Diversity’ in assortments (as opposed to only accuracy). You might find\n",
    "different metrics of dissimilarity in recommender system’s literature."
   ]
  }
 ],
 "metadata": {
  "kernelspec": {
   "display_name": "Python 3",
   "language": "python",
   "name": "python3"
  },
  "language_info": {
   "codemirror_mode": {
    "name": "ipython",
    "version": 3
   },
   "file_extension": ".py",
   "mimetype": "text/x-python",
   "name": "python",
   "nbconvert_exporter": "python",
   "pygments_lexer": "ipython3",
   "version": "3.11.4"
  }
 },
 "nbformat": 4,
 "nbformat_minor": 2
}
